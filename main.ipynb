{
 "cells": [
  {
   "cell_type": "code",
   "execution_count": null,
   "metadata": {},
   "outputs": [],
   "source": [
    "(() => {  \n",
    "    \n",
    "    const fetch = require('node-fetch')\n",
    "\n",
    "    async function getExampleCom() {\n",
    "        const rsp = await fetch('https://example.com')\n",
    "        const content = await rsp.text()\n",
    "        console.log(content)\n",
    "    }\n",
    "\n",
    "    getExampleCom()\n",
    "    console.log('just called getExampleCom(), waiting for content...')\n",
    "    \n",
    "})()"
   ]
  }
 ],
 "metadata": {
  "kernelspec": {
   "display_name": "Javascript (Node.js)",
   "language": "javascript",
   "name": "javascript"
  },
  "language_info": {
   "file_extension": ".js",
   "mimetype": "application/javascript",
   "name": "javascript",
   "version": "12.18.3"
  }
 },
 "nbformat": 4,
 "nbformat_minor": 4
}
